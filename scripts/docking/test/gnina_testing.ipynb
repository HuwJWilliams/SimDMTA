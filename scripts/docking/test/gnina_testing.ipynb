{
 "cells": [
  {
   "cell_type": "code",
   "execution_count": 4,
   "id": "18f20fb5",
   "metadata": {},
   "outputs": [],
   "source": [
    "import pandas as pd\n",
    "import sys\n",
    "\n",
    "sys.path.insert(0, '/users/yhb18174/Recreating_DMTA/scripts/docking/')\n",
    "from docking_fns import Run_GNINA\n",
    "\n",
    "df = pd.read_csv('/users/yhb18174/Recreating_DMTA/datasets/ChEMBL/training_data/dock/ChEMBL_docking_df.csv', index_col=False)\n",
    "\n",
    "docking_dir = '/users/yhb18174/Recreating_DMTA/docking/ChEMBL/'\n",
    "smi_ls = ['Cc1ccc2c(c1)C(=O)N(c3cnc(nc3N2C)Nc4cccc(c4)S(=O)(=O)N5CCN(CC5)C(=O)C=C)C', 'CCn1c2c(c(=O)[nH]c1=O)C(C3=C([NH+](CC3=N2)CC=C)O)c4ccc(cc4)C', 'CC(=O)C(C(c1ccc(cc1)Cl)c2ccc(cc2)Cl)C(=O)C']\n",
    "molid_ls = ['CHEMBL3979343', 'CHEMBL4089152', 'CHEMBL4084046']\n",
    "rec_path=\"/users/yhb18174/Recreating_DMTA/scripts/docking/receptors/4bw1_5_conserved_HOH.pdbqt\""
   ]
  },
  {
   "cell_type": "code",
   "execution_count": 3,
   "id": "13c82673",
   "metadata": {},
   "outputs": [
    {
     "name": "stdout",
     "output_type": "stream",
     "text": [
      "Random Seed:\n",
      "25357719\n"
     ]
    }
   ],
   "source": [
    "x = Run_GNINA(docking_dir=docking_dir, molid_ls=molid_ls, smi_ls=smi_ls, receptor_path=rec_path)"
   ]
  },
  {
   "cell_type": "code",
   "execution_count": 10,
   "id": "f82acbd3",
   "metadata": {},
   "outputs": [
    {
     "data": {
      "text/plain": [
       "['/users/yhb18174/Recreating_DMTA/docking/ChEMBL/CHEMBL3979343/all_confs_CHEMBL3979343_pH74.sdf',\n",
       " '/users/yhb18174/Recreating_DMTA/docking/ChEMBL/CHEMBL4089152/all_confs_CHEMBL4089152_pH74.sdf',\n",
       " '/users/yhb18174/Recreating_DMTA/docking/ChEMBL/CHEMBL4084046/all_confs_CHEMBL4084046_pH74.sdf']"
      ]
     },
     "execution_count": 10,
     "metadata": {},
     "output_type": "execute_result"
    }
   ],
   "source": [
    "x.ProcessMols(use_multiprocessing=False)"
   ]
  },
  {
   "cell_type": "code",
   "execution_count": 12,
   "id": "0175d75c",
   "metadata": {},
   "outputs": [
    {
     "data": {
      "text/plain": [
       "['11467173', '11467174', '11467175']"
      ]
     },
     "execution_count": 12,
     "metadata": {},
     "output_type": "execute_result"
    }
   ],
   "source": [
    "x.SubmitJobs(10, 10)"
   ]
  },
  {
   "cell_type": "code",
   "execution_count": 11,
   "id": "95dcae11",
   "metadata": {},
   "outputs": [
    {
     "data": {
      "text/html": [
       "<div>\n",
       "<style scoped>\n",
       "    .dataframe tbody tr th:only-of-type {\n",
       "        vertical-align: middle;\n",
       "    }\n",
       "\n",
       "    .dataframe tbody tr th {\n",
       "        vertical-align: top;\n",
       "    }\n",
       "\n",
       "    .dataframe thead th {\n",
       "        text-align: right;\n",
       "    }\n",
       "</style>\n",
       "<table border=\"1\" class=\"dataframe\">\n",
       "  <thead>\n",
       "    <tr style=\"text-align: right;\">\n",
       "      <th></th>\n",
       "      <th>smiles</th>\n",
       "      <th>molid</th>\n",
       "      <th>mol_no</th>\n",
       "    </tr>\n",
       "  </thead>\n",
       "  <tbody>\n",
       "    <tr>\n",
       "      <th>0</th>\n",
       "      <td>Cc1ccc2c(c1)C(=O)N(c3cnc(nc3N2C)Nc4cccc(c4)S(=...</td>\n",
       "      <td>NaN</td>\n",
       "      <td>0</td>\n",
       "    </tr>\n",
       "    <tr>\n",
       "      <th>1</th>\n",
       "      <td>CCn1c2c(c(=O)[nH]c1=O)C(C3=C([NH+](CC3=N2)CC=C...</td>\n",
       "      <td>NaN</td>\n",
       "      <td>1</td>\n",
       "    </tr>\n",
       "    <tr>\n",
       "      <th>2</th>\n",
       "      <td>CC(=O)C(C(c1ccc(cc1)Cl)c2ccc(cc2)Cl)C(=O)C</td>\n",
       "      <td>NaN</td>\n",
       "      <td>2</td>\n",
       "    </tr>\n",
       "  </tbody>\n",
       "</table>\n",
       "</div>"
      ],
      "text/plain": [
       "                                              smiles molid  mol_no\n",
       "0  Cc1ccc2c(c1)C(=O)N(c3cnc(nc3N2C)Nc4cccc(c4)S(=...   NaN       0\n",
       "1  CCn1c2c(c(=O)[nH]c1=O)C(C3=C([NH+](CC3=N2)CC=C...   NaN       1\n",
       "2         CC(=O)C(C(c1ccc(cc1)Cl)c2ccc(cc2)Cl)C(=O)C   NaN       2"
      ]
     },
     "execution_count": 11,
     "metadata": {},
     "output_type": "execute_result"
    }
   ],
   "source": [
    "x = pd.DataFrame(columns=['smiles', 'molid'])\n",
    "x['smiles'] = smi_ls\n",
    "x['mol_no'] = [0, 1, 2]\n",
    "x"
   ]
  }
 ],
 "metadata": {
  "kernelspec": {
   "display_name": "PP",
   "language": "python",
   "name": "python3"
  },
  "language_info": {
   "codemirror_mode": {
    "name": "ipython",
    "version": 3
   },
   "file_extension": ".py",
   "mimetype": "text/x-python",
   "name": "python",
   "nbconvert_exporter": "python",
   "pygments_lexer": "ipython3",
   "version": "3.9.7"
  }
 },
 "nbformat": 4,
 "nbformat_minor": 5
}
